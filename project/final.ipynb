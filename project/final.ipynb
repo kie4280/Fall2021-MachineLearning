{
 "cells": [
  {
   "cell_type": "markdown",
   "metadata": {},
   "source": [
    "## Name: 張宸愷\n",
    "## ID: 0710018"
   ]
  },
  {
   "cell_type": "markdown",
   "metadata": {},
   "source": [
    "## Introduction\n",
    "\n",
    "\n",
    "\n",
    "## Data collection\n",
    "\n",
    "## Introduction\n",
    "\n",
    "## Data Collection\n",
    "\n",
    "## Preprocessing\n",
    "\n",
    "## Models\n",
    "For this kind of problem, I will use Naive Bayes classifier, random forest, and MLPs. \n",
    "\n"
   ]
  },
  {
   "cell_type": "code",
   "execution_count": 64,
   "metadata": {},
   "outputs": [
    {
     "name": "stdout",
     "output_type": "stream",
     "text": [
      "                                                      0  1\n",
      "0     [donald, trump, is, once, again, in, court, ar...  1\n",
      "1     [the, federal, government, is, still, undercou...  1\n",
      "2     [biden, plans, to, talk, about, voting, rights...  1\n",
      "3     [23, new, fantasy, and, science, fiction, nove...  1\n",
      "4     [these, photos, show, the, devastating, effect...  1\n",
      "...                                                 ... ..\n",
      "4710  [devastated, by, a, tornado, 10, years, ago, j...  0\n",
      "4711  [can, testtostay, keep, kids, in, schools, saf...  0\n",
      "4712  [andreas, kluths, view, to, 2022, plague, and,...  0\n",
      "4713  [mexicos, wheat, fields, help, feed, the, worl...  0\n",
      "4714  [tensions, with, russia, are, now, spilling, i...  0\n",
      "\n",
      "[4715 rows x 2 columns]\n"
     ]
    }
   ],
   "source": [
    "# Data preprocessing\n",
    "\n",
    "import sklearn\n",
    "import numpy as np\n",
    "import pandas as pd\n",
    "from nltk import tokenize\n",
    "import re\n",
    "\n",
    "# print(\"sdff\")\n",
    "bait = pd.read_json(\"bait.json\")\n",
    "non_bait = pd.read_json(\"not_bait.json\")\n",
    "data = pd.concat([bait, non_bait])\n",
    "data = [[str.lower(f[0]), f[1]] for f in data.values]\n",
    "\n",
    "\n",
    "\n",
    "question_phrase = [\"what\", \"when\", \"where\", \"are\", \"is\",\n",
    "                   \"how\", \"why\", \"can\", \"should\", \"could\", \"were\", \"was\"]\n",
    "feature_exclamation = [\"!\" in f[0] for f in data]\n",
    "feature_isQuestion = []\n",
    "\n",
    "for f in data:\n",
    "    s = tokenize.word_tokenize(f[0])\n",
    "    if len(s) == 0:\n",
    "        feature_isQuestion.append(False)\n",
    "        continue\n",
    "    feature_isQuestion.append(\"?\" in str(f[0]) or (s[0] in question_phrase))\n",
    "d = []\n",
    "for f in data:\n",
    "    s = re.sub(r\"[?!`~'\\-=\\+@/;:\\\",_@#$%^&]+\", \"\", f[0])\n",
    "    d.append([s, f[1]])\n",
    "data = pd.DataFrame([[tokenize.word_tokenize(f[0]), f[1]] for f in d])\n",
    "print(data)\n",
    "feature_length = pd.Series([len(f[0]) for f in data.values])\n",
    "\n",
    "# print(feature_length)\n"
   ]
  },
  {
   "cell_type": "code",
   "execution_count": 67,
   "metadata": {},
   "outputs": [
    {
     "data": {
      "text/plain": [
       "<matplotlib.legend.Legend at 0x7f3c90c8e740>"
      ]
     },
     "execution_count": 67,
     "metadata": {},
     "output_type": "execute_result"
    },
    {
     "data": {
      "image/png": "[encoded data removed]",
      "text/plain": [
       "<Figure size 800x800 with 1 Axes>"
      ]
     },
     "metadata": {
      "needs_background": "light"
     },
     "output_type": "display_data"
    }
   ],
   "source": [
    "# Data visualization\n",
    "\n",
    "import matplotlib.pyplot as plt\n",
    "\n",
    "select_bait = (data[1] == 1)\n",
    "select_not = (data[1] == 0)\n",
    "_ = plt.figure(figsize=(10, 10), dpi=80)\n",
    "bait:pd.Series = feature_length[select_bait].value_counts()\n",
    "not_bait:pd.Series = feature_length[select_not].value_counts()\n",
    "_ = plt.bar(not_bait.index.values, not_bait.values, label=\"not bait\")\n",
    "_ = plt.bar(bait.index.values, bait.values, label=\"bait\")\n",
    "plt.legend()\n"
   ]
  },
  {
   "cell_type": "markdown",
   "metadata": {},
   "source": [
    "# Conclusion"
   ]
  }
 ],
 "metadata": {
  "interpreter": {
   "hash": "500b89c8815f44df6cc4dc033667a94dc1a3190ceec082e470f3c651376bff3b"
  },
  "kernelspec": {
   "display_name": "Python 3.10.0 64-bit ('py10': conda)",
   "language": "python",
   "name": "python3"
  },
  "language_info": {
   "codemirror_mode": {
    "name": "ipython",
    "version": 3
   },
   "file_extension": ".py",
   "mimetype": "text/x-python",
   "name": "python",
   "nbconvert_exporter": "python",
   "pygments_lexer": "ipython3",
   "version": "3.10.1"
  },
  "orig_nbformat": 4
 },
 "nbformat": 4,
 "nbformat_minor": 2
}
