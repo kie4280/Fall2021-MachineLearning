{
 "cells": [
  {
   "cell_type": "markdown",
   "metadata": {},
   "source": [
    "```\n",
    " Name: 張宸愷\n",
    " ID: 0710018\n",
    "```\n"
   ]
  },
  {
   "cell_type": "code",
   "execution_count": 20,
   "metadata": {},
   "outputs": [],
   "source": [
    "import pandas as pd\n",
    "import numpy as np\n",
    "from sklearn.preprocessing import OrdinalEncoder\n",
    "\n",
    "mush = pd.read_csv(\"data/agaricus-lepiota.data\", sep=\",\", header=None)\n",
    "mush = mush.drop(columns=11) # drop features with '?'\n",
    "\n",
    "# encode the categorical features\n",
    "encoder = OrdinalEncoder(dtype=np.int8)\n",
    "encoder.fit(mush)\n",
    "data = encoder.transform(mush) # encode the dataset into integers\n",
    "np.random.shuffle(data)\n",
    "\n"
   ]
  },
  {
   "cell_type": "code",
   "execution_count": 21,
   "metadata": {},
   "outputs": [],
   "source": [
    "from sklearn.naive_bayes import CategoricalNB\n",
    "from sklearn.metrics import confusion_matrix\n",
    "\n",
    "# define a single run\n",
    "\n",
    "\n",
    "def single_run(training: np.ndarray, validation: np.ndarray):\n",
    "    cat_NB = CategoricalNB(alpha=10)\n",
    "    cat_NB.fit(training[:, 1:], training[:, 0])\n",
    "\n",
    "    prediction = cat_NB.predict(validation[:, 1:])\n",
    "    confm = confusion_matrix(validation[:, 0], prediction).ravel()\n",
    "    tn, fp, fn, tp = confm\n",
    "    sensitivity = tp / (tp + fn)\n",
    "    precision = tp / (tp + fp)\n",
    "    accuracy = (tp + tn) / (tn + tp + tn + fn)\n",
    "    return confm, sensitivity, precision, accuracy\n"
   ]
  },
  {
   "cell_type": "code",
   "execution_count": 22,
   "metadata": {},
   "outputs": [
    {
     "name": "stdout",
     "output_type": "stream",
     "text": [
      "tn, fp, fn, tp = [1363   13  174 1158]\n",
      "(sensitivity, precision, accuracy) = (0.8693693693693694, 0.9888983774551665, 0.6212419911286348)\n"
     ]
    }
   ],
   "source": [
    "import math\n",
    "from sklearn.model_selection import KFold\n",
    "\n",
    "mode = \"1\"\n",
    "training = data.copy()\n",
    "\n",
    "\n",
    "if mode == \"holdout\":\n",
    "\n",
    "    ratio = 0.7\n",
    "\n",
    "    validation = training[int(training.shape[0]*ratio):].copy()\n",
    "    training = training[0:int(training.shape[0]*ratio)]\n",
    "    confm, sensitivity, precision, accuracy = single_run(training, validation)\n",
    "else:\n",
    "    kf = KFold(n_splits=3)\n",
    "    sum = (0,0,0,0)\n",
    "    for train_i, valid_i in kf.split(X=training[:, 1:]):\n",
    "        confm, sensitivity, precision, accuracy = single_run(\n",
    "            training[train_i], training[valid_i])\n",
    "\n",
    "\n",
    "print(\"tn, fp, fn, tp =\", confm)\n",
    "print(\"(sensitivity, precision, accuracy) =\",\n",
    "      (sensitivity, precision, accuracy))\n"
   ]
  },
  {
   "cell_type": "code",
   "execution_count": 23,
   "metadata": {},
   "outputs": [],
   "source": [
    "# data visualization\n",
    "\n",
    "import matplotlib.pyplot as plt\n",
    "import pandas as pd\n",
    "import numpy as np\n",
    "import math\n",
    "\n",
    "visual_data: pd.DataFrame = pd.read_csv(\n",
    "    \"data/agaricus-lepiota.data\", sep=\",\", header=None)\n",
    "\n",
    "titles = [\"cap-shape\",\n",
    "          \"cap-surface\",\n",
    "          \"cap-color\",\n",
    "          \"bruises\",\n",
    "          \"odor\",\n",
    "          \"gill-attachment\",\n",
    "          \"gill-spacing\",\n",
    "          \"gill-size\",\n",
    "          \"gill-color\",\n",
    "          \"stalk-shape\",\n",
    "          \"stalk-root\",\n",
    "          \"stalk-surface-above-ring\",\n",
    "          \"stalk-surface-below-ring\",\n",
    "          \"stalk-color-above-ring\",\n",
    "          \"stalk-color-below-ring\",\n",
    "          \"veil-type\",\n",
    "          \"veil-color\",\n",
    "          \"ring-number\",\n",
    "          \"ring-type\",\n",
    "          \"spore-print-color\",\n",
    "          \"population\",\n",
    "          \"habitat\"]\n",
    "\n",
    "generate_graph = False\n",
    "\n",
    "if (generate_graph):\n",
    "\n",
    "    # plot mixed\n",
    "    fig, axs = plt.subplots(6, 4, figsize=(15, 22), dpi=100)\n",
    "    for c in range(1, 23):\n",
    "        cur = visual_data[c].value_counts()\n",
    "\n",
    "        axs[int((c-1)/4), (c-1) % 4].bar(cur.index, cur.values)\n",
    "        axs[int((c-1)/4), (c-1) % 4].set_title(titles[c-1])\n",
    "\n",
    "    fig.suptitle(\"Mixed targets\")\n",
    "\n",
    "    # plot edible\n",
    "    selector = visual_data[0] == 'e'\n",
    "    fig, axs = plt.subplots(6, 4, figsize=(15, 22), dpi=100)\n",
    "    for c in range(1, 23):\n",
    "        aa = visual_data[selector][c].value_counts()\n",
    "        axs[int((c-1)/4), (c-1) % 4].bar(aa.index, aa.values)\n",
    "        axs[int((c-1)/4), (c-1) % 4].set_title(titles[c-1])\n",
    "\n",
    "    fig.suptitle(\"Edible targets\")\n",
    "\n",
    "    # plot poisonous\n",
    "    selector = visual_data[0] == 'p'\n",
    "    fig, axs = plt.subplots(6, 4, figsize=(15, 22), dpi=100)\n",
    "    for c in range(1, 23):\n",
    "        aa = visual_data[selector][c].value_counts()\n",
    "        axs[int((c-1)/4), (c-1) % 4].bar(aa.index, aa.values)\n",
    "        axs[int((c-1)/4), (c-1) % 4].set_title(titles[c-1])\n",
    "\n",
    "    fig.suptitle(\"Poisonous targets\")\n"
   ]
  }
 ],
 "metadata": {
  "interpreter": {
   "hash": "39ee8b2532ba0d367d8a804459f87d5f1b7a64bdde2dae632ea701e04e13d188"
  },
  "kernelspec": {
   "display_name": "Python 3.9.7 64-bit ('env1': conda)",
   "name": "python3"
  },
  "language_info": {
   "codemirror_mode": {
    "name": "ipython",
    "version": 3
   },
   "file_extension": ".py",
   "mimetype": "text/x-python",
   "name": "python",
   "nbconvert_exporter": "python",
   "pygments_lexer": "ipython3",
   "version": "3.9.7"
  },
  "orig_nbformat": 4
 },
 "nbformat": 4,
 "nbformat_minor": 2
}
