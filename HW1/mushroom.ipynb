{
 "cells": [
  {
   "cell_type": "markdown",
   "metadata": {},
   "source": [
    "> Name: 張宸愷\n",
    "> ID: 0710018\n",
    "\n"
   ]
  },
  {
   "cell_type": "code",
   "execution_count": 4,
   "metadata": {},
   "outputs": [
    {
     "name": "stdout",
     "output_type": "stream",
     "text": [
      "[[1 3 2 ... 7 4 0]\n",
      " [1 2 3 ... 7 4 4]\n",
      " [0 0 0 ... 7 2 1]\n",
      " ...\n",
      " [0 5 3 ... 3 3 4]\n",
      " [0 5 3 ... 3 5 0]\n",
      " [1 5 0 ... 3 4 0]]\n"
     ]
    }
   ],
   "source": [
    "import pandas as pd\n",
    "import sklearn as sk\n",
    "import numpy as np\n",
    "from sklearn.preprocessing import OrdinalEncoder\n",
    "\n",
    "mush = pd.read_csv(\"data/agaricus-lepiota.data\", sep=\",\", header=None)\n",
    "mush = mush.drop(columns=11) # drop features with '?'\n",
    "mush = mush.sample(frac=1).reset_index(drop=True) # shuffle data\n",
    "\n",
    "encoder = OrdinalEncoder(dtype=np.int8)\n",
    "encoder.fit(mush)\n",
    "mush = encoder.transform(mush)\n",
    "print(mush)\n"
   ]
  },
  {
   "cell_type": "code",
   "execution_count": null,
   "metadata": {},
   "outputs": [],
   "source": [
    "from sklearn.naive_bayes import CategoricalNB\n"
   ]
  }
 ],
 "metadata": {
  "interpreter": {
   "hash": "39ee8b2532ba0d367d8a804459f87d5f1b7a64bdde2dae632ea701e04e13d188"
  },
  "kernelspec": {
   "display_name": "Python 3.9.7 64-bit ('env1': conda)",
   "name": "python3"
  },
  "language_info": {
   "codemirror_mode": {
    "name": "ipython",
    "version": 3
   },
   "file_extension": ".py",
   "mimetype": "text/x-python",
   "name": "python",
   "nbconvert_exporter": "python",
   "pygments_lexer": "ipython3",
   "version": "3.9.7"
  },
  "orig_nbformat": 4
 },
 "nbformat": 4,
 "nbformat_minor": 2
}
