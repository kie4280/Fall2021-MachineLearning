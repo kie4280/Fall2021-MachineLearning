{
 "cells": [
  {
   "cell_type": "markdown",
   "metadata": {},
   "source": [
    "```\n",
    " Name: 張宸愷\n",
    " ID: 0710018\n",
    " ```"
   ]
  },
  {
   "cell_type": "code",
   "execution_count": null,
   "metadata": {},
   "outputs": [],
   "source": [
    "from sklearn.naive_bayes import GaussianNB\n",
    "\n"
   ]
  },
  {
   "cell_type": "code",
   "execution_count": null,
   "metadata": {},
   "outputs": [],
   "source": [
    "# data visualization"
   ]
  }
 ],
 "metadata": {
  "interpreter": {
   "hash": "39ee8b2532ba0d367d8a804459f87d5f1b7a64bdde2dae632ea701e04e13d188"
  },
  "kernelspec": {
   "display_name": "Python 3.9.7 64-bit ('env1': conda)",
   "name": "python3"
  },
  "language_info": {
   "name": "python",
   "version": "3.9.7"
  },
  "orig_nbformat": 4
 },
 "nbformat": 4,
 "nbformat_minor": 2
}
