{
 "cells": [
  {
   "cell_type": "markdown",
   "metadata": {},
   "source": [
    "```\n",
    " Name: 張宸愷\n",
    " ID: 0710018\n",
    " ```"
   ]
  },
  {
   "cell_type": "code",
   "execution_count": 1,
   "metadata": {},
   "outputs": [
    {
     "name": "stdout",
     "output_type": "stream",
     "text": [
      "{'Iris-setosa': {'precision': 1.0, 'recall': 1.0, 'f1-score': 1.0, 'support': 11}, 'Iris-versicolor': {'precision': 0.9090909090909091, 'recall': 0.8333333333333334, 'f1-score': 0.8695652173913043, 'support': 12}, 'Iris-virginica': {'precision': 0.9130434782608695, 'recall': 0.9545454545454546, 'f1-score': 0.9333333333333332, 'support': 22}, 'accuracy': 0.9333333333333333, 'macro avg': {'precision': 0.9407114624505929, 'recall': 0.9292929292929294, 'f1-score': 0.9342995169082124, 'support': 45}, 'weighted avg': {'precision': 0.9332454984628896, 'recall': 0.9333333333333333, 'f1-score': 0.9326247987117553, 'support': 45}}\n",
      "tn, fp, fn, tp = [[11  0  0]\n",
      " [ 0 10  2]\n",
      " [ 0  1 21]]\n"
     ]
    }
   ],
   "source": [
    "from sklearn.naive_bayes import GaussianNB\n",
    "from sklearn.preprocessing import LabelEncoder\n",
    "from sklearn.metrics import classification_report, confusion_matrix\n",
    "from sklearn.model_selection import KFold\n",
    "import pandas as pd\n",
    "import numpy as np\n",
    "\n",
    "\n",
    "\n",
    "iris = pd.read_csv(\"data/iris.data\", sep=',', header=None).to_numpy()\n",
    "\n",
    "\n",
    "np.random.shuffle(iris)\n",
    "\n",
    "def single_run(training: np.ndarray, validation: np.ndarray):\n",
    "    gaussian_NB = GaussianNB()\n",
    "    gaussian_NB.fit(training[:, 0:4], training[:,4])\n",
    "    pred = gaussian_NB.predict(validation[:,0:4])\n",
    "    confm = confusion_matrix(validation[:,4], pred)\n",
    "    r = classification_report(validation[:,4], pred, digits=8, output_dict=True)\n",
    "\n",
    "\n",
    "    return confm, r\n",
    "\n",
    "def print_metrics(r: dict()):\n",
    "\n",
    "    print(\"\"\"\n",
    "    | category | recall | precision | accuracy |\n",
    "    |----|----|----|----|\n",
    "    | p | {} | {} | {} |\n",
    "    | e | {} | {} | {} |\n",
    "      \"\"\".format(r[\"p\"][\"recall\"], r[\"p\"][\"precision\"], r[\"accuracy\"],\n",
    "                 r[\"e\"][\"recall\"], r[\"e\"][\"precision\"], r[\"accuracy\"]))\n",
    "\n",
    "\n",
    "mode = \"holdout\"\n",
    "training = iris.copy()\n",
    "\n",
    "if mode == \"holdout\":\n",
    "\n",
    "    ratio = 0.7\n",
    "\n",
    "    validation = training[int(training.shape[0]*ratio):].copy()\n",
    "    training = training[0:int(training.shape[0]*ratio)]\n",
    "    confm, r = single_run(training, validation)\n",
    "    print(r)\n",
    "    # print_metrics(r)\n",
    "else:\n",
    "    kf = KFold(n_splits=3)\n",
    "    sum = []\n",
    "    for train_i, valid_i in kf.split(X=training[:, 1:]):\n",
    "        confm = single_run(\n",
    "            training[train_i], training[valid_i])\n",
    "        sum.append(confm)\n",
    "    confm = np.sum(sum, axis=0) / 3\n",
    "\n",
    "print(\"tn, fp, fn, tp =\", confm)\n"
   ]
  },
  {
   "cell_type": "code",
   "execution_count": 1,
   "metadata": {},
   "outputs": [
    {
     "data": {
      "image/png": "[encoded data removed]",
      "text/plain": [
       "<Figure size 1600x500 with 4 Axes>"
      ]
     },
     "metadata": {
      "needs_background": "light"
     },
     "output_type": "display_data"
    }
   ],
   "source": [
    "# data visualization\n",
    "\n",
    "import matplotlib.pyplot as plt\n",
    "import pandas as pd\n",
    "import numpy as np\n",
    "import math\n",
    "\n",
    "visual_data: pd.DataFrame = pd.read_csv(\n",
    "    \"data/iris.data\", sep=\",\", header=None)\n",
    "\n",
    "titles = [\"sepal length in cm\", \"sepal width in cm\",\n",
    "          \"petal length in cm\", \"petal width in cm\"]\n",
    "\n",
    "generate_graph = True\n",
    "\n",
    "if (generate_graph):\n",
    "\n",
    "    # plot mixed\n",
    "    fig, axs = plt.subplots(1, 4, figsize=(16, 5), dpi=100)\n",
    "    for c in range(0, 4):\n",
    "\n",
    "        cur = visual_data[c].value_counts(sort=True)\n",
    "        axs[c].bar(cur.index, cur.values, width=0.1)\n",
    "        axs[c].set_title(titles[c])\n",
    "\n",
    "    fig.suptitle(\"Mixed targets\")\n",
    "\n",
    "    # plot individual\n",
    "    classes = [\"Iris-versicolor\", \"Iris-setosa\",\n",
    "               \"Iris-virginica\"]\n",
    "    for i in range(3):\n",
    "        selector = visual_data[4] == classes[i]\n",
    "        fig, axs = plt.subplots(1, 4, figsize=(16, 5), dpi=100)\n",
    "        for c in range(0, 4):\n",
    "\n",
    "            cur = visual_data[selector][c].value_counts(sort=True)\n",
    "            axs[c].bar(cur.index, cur.values, width=0.1)\n",
    "            axs[c].set_title(titles[c])\n",
    "\n",
    "        fig.suptitle(classes[i])\n",
    "\n",
    "\n"
   ]
  }
 ],
 "metadata": {
  "interpreter": {
   "hash": "39ee8b2532ba0d367d8a804459f87d5f1b7a64bdde2dae632ea701e04e13d188"
  },
  "kernelspec": {
   "display_name": "Python 3.9.7 64-bit ('env1': conda)",
   "name": "python3"
  },
  "language_info": {
   "codemirror_mode": {
    "name": "ipython",
    "version": 3
   },
   "file_extension": ".py",
   "mimetype": "text/x-python",
   "name": "python",
   "nbconvert_exporter": "python",
   "pygments_lexer": "ipython3",
   "version": "3.9.7"
  },
  "orig_nbformat": 4
 },
 "nbformat": 4,
 "nbformat_minor": 2
}
